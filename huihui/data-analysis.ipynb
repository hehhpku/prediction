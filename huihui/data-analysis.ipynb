{
 "cells": [
  {
   "cell_type": "code",
   "execution_count": 32,
   "metadata": {},
   "outputs": [],
   "source": [
    "import os\n",
    "import pandas as pd\n",
    "\n",
    "import matplotlib.pyplot as plt\n",
    "import seaborn as sns\n",
    "%matplotlib inline\n",
    "\n",
    "DATA_DIR = '../data'"
   ]
  },
  {
   "cell_type": "markdown",
   "metadata": {},
   "source": [
    "# SKU基本信息表"
   ]
  },
  {
   "cell_type": "code",
   "execution_count": 4,
   "metadata": {},
   "outputs": [],
   "source": [
    "csv_file = os.path.join(DATA_DIR, 'jdata_sku_basic_info.csv')\n",
    "df = pd.read_csv(csv_file)"
   ]
  },
  {
   "cell_type": "code",
   "execution_count": 8,
   "metadata": {},
   "outputs": [
    {
     "data": {
      "text/html": [
       "<div>\n",
       "<style scoped>\n",
       "    .dataframe tbody tr th:only-of-type {\n",
       "        vertical-align: middle;\n",
       "    }\n",
       "\n",
       "    .dataframe tbody tr th {\n",
       "        vertical-align: top;\n",
       "    }\n",
       "\n",
       "    .dataframe thead th {\n",
       "        text-align: right;\n",
       "    }\n",
       "</style>\n",
       "<table border=\"1\" class=\"dataframe\">\n",
       "  <thead>\n",
       "    <tr style=\"text-align: right;\">\n",
       "      <th></th>\n",
       "      <th>sku_id</th>\n",
       "      <th>price</th>\n",
       "      <th>cate</th>\n",
       "      <th>para_1</th>\n",
       "      <th>para_2</th>\n",
       "      <th>para_3</th>\n",
       "    </tr>\n",
       "  </thead>\n",
       "  <tbody>\n",
       "    <tr>\n",
       "      <th>count</th>\n",
       "      <td>99412.000000</td>\n",
       "      <td>9.941200e+04</td>\n",
       "      <td>99412.000000</td>\n",
       "      <td>99412.000000</td>\n",
       "      <td>99412.000000</td>\n",
       "      <td>99412.000000</td>\n",
       "    </tr>\n",
       "    <tr>\n",
       "      <th>mean</th>\n",
       "      <td>49706.500000</td>\n",
       "      <td>1.404066e+03</td>\n",
       "      <td>71.675331</td>\n",
       "      <td>187.836283</td>\n",
       "      <td>-0.070595</td>\n",
       "      <td>-0.117119</td>\n",
       "    </tr>\n",
       "    <tr>\n",
       "      <th>std</th>\n",
       "      <td>28697.916818</td>\n",
       "      <td>2.480563e+04</td>\n",
       "      <td>28.310322</td>\n",
       "      <td>4139.406198</td>\n",
       "      <td>1.696164</td>\n",
       "      <td>1.878670</td>\n",
       "    </tr>\n",
       "    <tr>\n",
       "      <th>min</th>\n",
       "      <td>1.000000</td>\n",
       "      <td>4.300000e+00</td>\n",
       "      <td>1.000000</td>\n",
       "      <td>0.080000</td>\n",
       "      <td>-1.000000</td>\n",
       "      <td>-1.000000</td>\n",
       "    </tr>\n",
       "    <tr>\n",
       "      <th>25%</th>\n",
       "      <td>24853.750000</td>\n",
       "      <td>2.732000e+02</td>\n",
       "      <td>71.000000</td>\n",
       "      <td>40.580000</td>\n",
       "      <td>-1.000000</td>\n",
       "      <td>-1.000000</td>\n",
       "    </tr>\n",
       "    <tr>\n",
       "      <th>50%</th>\n",
       "      <td>49706.500000</td>\n",
       "      <td>5.956500e+02</td>\n",
       "      <td>71.000000</td>\n",
       "      <td>74.090000</td>\n",
       "      <td>-1.000000</td>\n",
       "      <td>-1.000000</td>\n",
       "    </tr>\n",
       "    <tr>\n",
       "      <th>75%</th>\n",
       "      <td>74559.250000</td>\n",
       "      <td>1.185000e+03</td>\n",
       "      <td>101.000000</td>\n",
       "      <td>104.872500</td>\n",
       "      <td>-1.000000</td>\n",
       "      <td>-1.000000</td>\n",
       "    </tr>\n",
       "    <tr>\n",
       "      <th>max</th>\n",
       "      <td>99412.000000</td>\n",
       "      <td>3.880033e+06</td>\n",
       "      <td>101.000000</td>\n",
       "      <td>475292.880000</td>\n",
       "      <td>6.000000</td>\n",
       "      <td>7.000000</td>\n",
       "    </tr>\n",
       "  </tbody>\n",
       "</table>\n",
       "</div>"
      ],
      "text/plain": [
       "             sku_id         price          cate         para_1        para_2  \\\n",
       "count  99412.000000  9.941200e+04  99412.000000   99412.000000  99412.000000   \n",
       "mean   49706.500000  1.404066e+03     71.675331     187.836283     -0.070595   \n",
       "std    28697.916818  2.480563e+04     28.310322    4139.406198      1.696164   \n",
       "min        1.000000  4.300000e+00      1.000000       0.080000     -1.000000   \n",
       "25%    24853.750000  2.732000e+02     71.000000      40.580000     -1.000000   \n",
       "50%    49706.500000  5.956500e+02     71.000000      74.090000     -1.000000   \n",
       "75%    74559.250000  1.185000e+03    101.000000     104.872500     -1.000000   \n",
       "max    99412.000000  3.880033e+06    101.000000  475292.880000      6.000000   \n",
       "\n",
       "             para_3  \n",
       "count  99412.000000  \n",
       "mean      -0.117119  \n",
       "std        1.878670  \n",
       "min       -1.000000  \n",
       "25%       -1.000000  \n",
       "50%       -1.000000  \n",
       "75%       -1.000000  \n",
       "max        7.000000  "
      ]
     },
     "execution_count": 8,
     "metadata": {},
     "output_type": "execute_result"
    }
   ],
   "source": [
    "df.describe()"
   ]
  },
  {
   "cell_type": "code",
   "execution_count": 36,
   "metadata": {},
   "outputs": [
    {
     "ename": "NameError",
     "evalue": "name 'axes' is not defined",
     "output_type": "error",
     "traceback": [
      "\u001b[0;31m---------------------------------------------------------------------------\u001b[0m",
      "\u001b[0;31mNameError\u001b[0m                                 Traceback (most recent call last)",
      "\u001b[0;32m<ipython-input-36-fd0d506ac845>\u001b[0m in \u001b[0;36m<module>\u001b[0;34m()\u001b[0m\n\u001b[0;32m----> 1\u001b[0;31m \u001b[0msns\u001b[0m\u001b[0;34m.\u001b[0m\u001b[0mdistplot\u001b[0m\u001b[0;34m(\u001b[0m\u001b[0mdf\u001b[0m\u001b[0;34m[\u001b[0m\u001b[0;34m'para_3'\u001b[0m\u001b[0;34m]\u001b[0m\u001b[0;34m,\u001b[0m \u001b[0mhist\u001b[0m\u001b[0;34m=\u001b[0m\u001b[0;32mFalse\u001b[0m\u001b[0;34m,\u001b[0m \u001b[0mrug\u001b[0m\u001b[0;34m=\u001b[0m\u001b[0;32mTrue\u001b[0m\u001b[0;34m,\u001b[0m \u001b[0mcolor\u001b[0m\u001b[0;34m=\u001b[0m\u001b[0;34m\"r\"\u001b[0m\u001b[0;34m,\u001b[0m \u001b[0max\u001b[0m\u001b[0;34m=\u001b[0m\u001b[0maxes\u001b[0m\u001b[0;34m[\u001b[0m\u001b[0;36m0\u001b[0m\u001b[0;34m,\u001b[0m \u001b[0;36m1\u001b[0m\u001b[0;34m]\u001b[0m\u001b[0;34m)\u001b[0m\u001b[0;34m\u001b[0m\u001b[0m\n\u001b[0m",
      "\u001b[0;31mNameError\u001b[0m: name 'axes' is not defined"
     ]
    }
   ],
   "source": [
    "sns.distplot(df['para_3'], hist=False, rug=True, color=\"r\", ax=axes[0, 1])  \n"
   ]
  },
  {
   "cell_type": "code",
   "execution_count": 28,
   "metadata": {},
   "outputs": [
    {
     "data": {
      "text/plain": [
       "71     41959\n",
       "101    30344\n",
       "83      7638\n",
       "30      7380\n",
       "1       7333\n",
       "46      4758\n",
       "Name: cate, dtype: int64"
      ]
     },
     "execution_count": 28,
     "metadata": {},
     "output_type": "execute_result"
    }
   ],
   "source": [
    "df['cate'].value_counts()"
   ]
  },
  {
   "cell_type": "code",
   "execution_count": 30,
   "metadata": {},
   "outputs": [
    {
     "data": {
      "text/plain": [
       "-1    75026\n",
       " 3    11109\n",
       " 2     7227\n",
       " 4     3443\n",
       " 1     1735\n",
       " 5      512\n",
       " 6      360\n",
       "Name: para_2, dtype: int64"
      ]
     },
     "execution_count": 30,
     "metadata": {},
     "output_type": "execute_result"
    }
   ],
   "source": [
    "df['para_2'].value_counts()"
   ]
  },
  {
   "cell_type": "code",
   "execution_count": 31,
   "metadata": {},
   "outputs": [
    {
     "data": {
      "text/plain": [
       "-1    80537\n",
       " 4     9717\n",
       " 3     3095\n",
       " 5     2627\n",
       " 2     2497\n",
       " 1      606\n",
       " 6      325\n",
       " 7        8\n",
       "Name: para_3, dtype: int64"
      ]
     },
     "execution_count": 31,
     "metadata": {},
     "output_type": "execute_result"
    }
   ],
   "source": [
    "df['para_3'].value_counts()"
   ]
  },
  {
   "cell_type": "code",
   "execution_count": 23,
   "metadata": {},
   "outputs": [],
   "source": [
    "def describe(df, *args):\n",
    "    result = []\n",
    "    columns = []\n",
    "    for arg in args:\n",
    "        desc = df[arg].value_counts()\n",
    "        result.extend([desc.index, desc.values])\n",
    "        columns.extend([arg + '.index', arg])\n",
    "    return pd.DataFrame(list(zip(*result)), columns=columns)"
   ]
  },
  {
   "cell_type": "code",
   "execution_count": null,
   "metadata": {},
   "outputs": [],
   "source": []
  }
 ],
 "metadata": {
  "kernelspec": {
   "display_name": "Python 3",
   "language": "python",
   "name": "python3"
  },
  "language_info": {
   "codemirror_mode": {
    "name": "ipython",
    "version": 3
   },
   "file_extension": ".py",
   "mimetype": "text/x-python",
   "name": "python",
   "nbconvert_exporter": "python",
   "pygments_lexer": "ipython3",
   "version": "3.6.4"
  }
 },
 "nbformat": 4,
 "nbformat_minor": 2
}
