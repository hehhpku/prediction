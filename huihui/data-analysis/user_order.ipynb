{
 "cells": [
  {
   "cell_type": "markdown",
   "metadata": {},
   "source": [
    "# 用户订单表"
   ]
  },
  {
   "cell_type": "code",
   "execution_count": 2,
   "metadata": {},
   "outputs": [],
   "source": [
    "import os\n",
    "import pandas as pd\n",
    "\n",
    "import matplotlib.pyplot as plt\n",
    "import seaborn as sns\n",
    "%matplotlib inline\n",
    "\n",
    "DATA_DIR = '../../data'"
   ]
  },
  {
   "cell_type": "code",
   "execution_count": 3,
   "metadata": {},
   "outputs": [],
   "source": [
    "csv_file = os.path.join(DATA_DIR, 'jdata_user_order.csv')\n",
    "df = pd.read_csv(csv_file)"
   ]
  },
  {
   "cell_type": "code",
   "execution_count": 7,
   "metadata": {},
   "outputs": [
    {
     "data": {
      "text/plain": [
       "(792723, 6)"
      ]
     },
     "execution_count": 7,
     "metadata": {},
     "output_type": "execute_result"
    }
   ],
   "source": [
    "df.shape"
   ]
  },
  {
   "cell_type": "code",
   "execution_count": 4,
   "metadata": {},
   "outputs": [
    {
     "data": {
      "text/html": [
       "<div>\n",
       "<style scoped>\n",
       "    .dataframe tbody tr th:only-of-type {\n",
       "        vertical-align: middle;\n",
       "    }\n",
       "\n",
       "    .dataframe tbody tr th {\n",
       "        vertical-align: top;\n",
       "    }\n",
       "\n",
       "    .dataframe thead th {\n",
       "        text-align: right;\n",
       "    }\n",
       "</style>\n",
       "<table border=\"1\" class=\"dataframe\">\n",
       "  <thead>\n",
       "    <tr style=\"text-align: right;\">\n",
       "      <th></th>\n",
       "      <th>user_id</th>\n",
       "      <th>sku_id</th>\n",
       "      <th>o_id</th>\n",
       "      <th>o_area</th>\n",
       "      <th>o_sku_num</th>\n",
       "    </tr>\n",
       "  </thead>\n",
       "  <tbody>\n",
       "    <tr>\n",
       "      <th>count</th>\n",
       "      <td>792723.000000</td>\n",
       "      <td>792723.000000</td>\n",
       "      <td>792723.000000</td>\n",
       "      <td>792723.000000</td>\n",
       "      <td>792723.000000</td>\n",
       "    </tr>\n",
       "    <tr>\n",
       "      <th>mean</th>\n",
       "      <td>49441.676641</td>\n",
       "      <td>50917.841916</td>\n",
       "      <td>330414.033674</td>\n",
       "      <td>15.827068</td>\n",
       "      <td>1.509469</td>\n",
       "    </tr>\n",
       "    <tr>\n",
       "      <th>std</th>\n",
       "      <td>28627.282074</td>\n",
       "      <td>29025.466724</td>\n",
       "      <td>190802.321306</td>\n",
       "      <td>8.275580</td>\n",
       "      <td>1.724847</td>\n",
       "    </tr>\n",
       "    <tr>\n",
       "      <th>min</th>\n",
       "      <td>1.000000</td>\n",
       "      <td>2.000000</td>\n",
       "      <td>1.000000</td>\n",
       "      <td>1.000000</td>\n",
       "      <td>1.000000</td>\n",
       "    </tr>\n",
       "    <tr>\n",
       "      <th>25%</th>\n",
       "      <td>24584.500000</td>\n",
       "      <td>25469.000000</td>\n",
       "      <td>165161.500000</td>\n",
       "      <td>8.000000</td>\n",
       "      <td>1.000000</td>\n",
       "    </tr>\n",
       "    <tr>\n",
       "      <th>50%</th>\n",
       "      <td>49604.000000</td>\n",
       "      <td>51528.000000</td>\n",
       "      <td>330379.000000</td>\n",
       "      <td>17.000000</td>\n",
       "      <td>1.000000</td>\n",
       "    </tr>\n",
       "    <tr>\n",
       "      <th>75%</th>\n",
       "      <td>74113.000000</td>\n",
       "      <td>75618.000000</td>\n",
       "      <td>495659.500000</td>\n",
       "      <td>23.000000</td>\n",
       "      <td>2.000000</td>\n",
       "    </tr>\n",
       "    <tr>\n",
       "      <th>max</th>\n",
       "      <td>98924.000000</td>\n",
       "      <td>99410.000000</td>\n",
       "      <td>660933.000000</td>\n",
       "      <td>31.000000</td>\n",
       "      <td>200.000000</td>\n",
       "    </tr>\n",
       "  </tbody>\n",
       "</table>\n",
       "</div>"
      ],
      "text/plain": [
       "             user_id         sku_id           o_id         o_area  \\\n",
       "count  792723.000000  792723.000000  792723.000000  792723.000000   \n",
       "mean    49441.676641   50917.841916  330414.033674      15.827068   \n",
       "std     28627.282074   29025.466724  190802.321306       8.275580   \n",
       "min         1.000000       2.000000       1.000000       1.000000   \n",
       "25%     24584.500000   25469.000000  165161.500000       8.000000   \n",
       "50%     49604.000000   51528.000000  330379.000000      17.000000   \n",
       "75%     74113.000000   75618.000000  495659.500000      23.000000   \n",
       "max     98924.000000   99410.000000  660933.000000      31.000000   \n",
       "\n",
       "           o_sku_num  \n",
       "count  792723.000000  \n",
       "mean        1.509469  \n",
       "std         1.724847  \n",
       "min         1.000000  \n",
       "25%         1.000000  \n",
       "50%         1.000000  \n",
       "75%         2.000000  \n",
       "max       200.000000  "
      ]
     },
     "execution_count": 4,
     "metadata": {},
     "output_type": "execute_result"
    }
   ],
   "source": [
    "df.describe()"
   ]
  },
  {
   "cell_type": "code",
   "execution_count": 5,
   "metadata": {},
   "outputs": [
    {
     "data": {
      "text/plain": [
       "98924"
      ]
     },
     "execution_count": 5,
     "metadata": {},
     "output_type": "execute_result"
    }
   ],
   "source": [
    "df['user_id'].nunique()"
   ]
  },
  {
   "cell_type": "code",
   "execution_count": 6,
   "metadata": {},
   "outputs": [
    {
     "data": {
      "text/plain": [
       "25474"
      ]
     },
     "execution_count": 6,
     "metadata": {},
     "output_type": "execute_result"
    }
   ],
   "source": [
    "df['sku_id'].nunique()"
   ]
  },
  {
   "cell_type": "code",
   "execution_count": 8,
   "metadata": {},
   "outputs": [
    {
     "data": {
      "text/plain": [
       "660933"
      ]
     },
     "execution_count": 8,
     "metadata": {},
     "output_type": "execute_result"
    }
   ],
   "source": [
    "df['o_id'].nunique()"
   ]
  },
  {
   "cell_type": "code",
   "execution_count": 9,
   "metadata": {},
   "outputs": [
    {
     "data": {
      "text/plain": [
       "8     145322\n",
       "17     81484\n",
       "10     60778\n",
       "20     54425\n",
       "2      39409\n",
       "21     36787\n",
       "25     35364\n",
       "27     33483\n",
       "7      31536\n",
       "30     30358\n",
       "16     23521\n",
       "18     23456\n",
       "24     22713\n",
       "26     22619\n",
       "28     21346\n",
       "13     20693\n",
       "29     18927\n",
       "9      17273\n",
       "23     11048\n",
       "19      8152\n",
       "3       7696\n",
       "4       7599\n",
       "14      7328\n",
       "31      6536\n",
       "5       5503\n",
       "22      5480\n",
       "1       5317\n",
       "12      5251\n",
       "15      2175\n",
       "11      1011\n",
       "6        133\n",
       "Name: o_area, dtype: int64"
      ]
     },
     "execution_count": 9,
     "metadata": {},
     "output_type": "execute_result"
    }
   ],
   "source": [
    "df['o_area'].value_counts()"
   ]
  },
  {
   "cell_type": "code",
   "execution_count": 12,
   "metadata": {},
   "outputs": [
    {
     "data": {
      "text/plain": [
       "1      572037\n",
       "2      141559\n",
       "3       34185\n",
       "4       26003\n",
       "6        7606\n",
       "5        6695\n",
       "8        1633\n",
       "10       1000\n",
       "7         566\n",
       "12        379\n",
       "9         267\n",
       "20        125\n",
       "11        124\n",
       "16        109\n",
       "18         84\n",
       "13         65\n",
       "15         57\n",
       "180        30\n",
       "24         28\n",
       "17         19\n",
       "Name: o_sku_num, dtype: int64"
      ]
     },
     "execution_count": 12,
     "metadata": {},
     "output_type": "execute_result"
    }
   ],
   "source": [
    "df['o_sku_num'].value_counts()[:20]"
   ]
  },
  {
   "cell_type": "code",
   "execution_count": null,
   "metadata": {},
   "outputs": [],
   "source": []
  }
 ],
 "metadata": {
  "kernelspec": {
   "display_name": "Python 3",
   "language": "python",
   "name": "python3"
  },
  "language_info": {
   "codemirror_mode": {
    "name": "ipython",
    "version": 3
   },
   "file_extension": ".py",
   "mimetype": "text/x-python",
   "name": "python",
   "nbconvert_exporter": "python",
   "pygments_lexer": "ipython3",
   "version": "3.6.4"
  }
 },
 "nbformat": 4,
 "nbformat_minor": 2
}
